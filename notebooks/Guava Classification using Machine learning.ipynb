{
 "cells": [
  {
   "cell_type": "code",
   "execution_count": 1,
   "metadata": {},
   "outputs": [],
   "source": [
    "import os\n",
    "import cv2\n",
    "import joblib\n",
    "import numpy as np\n",
    "import pandas as pd\n",
    "\n",
    "import matplotlib.pyplot as plt\n",
    "from PIL import Image\n",
    "\n",
    "from sklearn.neighbors import KNeighborsClassifier\n",
    "from sklearn.model_selection import train_test_split\n",
    "from sklearn.preprocessing import LabelEncoder\n",
    "from sklearn.metrics import accuracy_score, precision_score\n",
    "from sklearn.svm import SVC\n",
    "from sklearn.ensemble import GradientBoostingClassifier, BaggingClassifier, AdaBoostClassifier, RandomForestClassifier\n",
    "from sklearn.naive_bayes import GaussianNB\n",
    "from sklearn.linear_model import LogisticRegression\n",
    "from sklearn.tree import DecisionTreeClassifier"
   ]
  },
  {
   "cell_type": "markdown",
   "metadata": {},
   "source": [
    "\n",
    "<H3>Loading Training Data</H3>"
   ]
  },
  {
   "cell_type": "code",
   "execution_count": 2,
   "metadata": {},
   "outputs": [],
   "source": [
    "def load_data(dir , df):\n",
    "    # Load images and labels into arrays\n",
    "    images = []\n",
    "    labels = []\n",
    "\n",
    "    for index, row in df.iterrows():\n",
    "        image_file_path = os.path.join(dir, row['filename'])\n",
    "        image = cv2.imread(image_file_path)\n",
    "        if image is not None:\n",
    "            resized_image = cv2.resize(image, (100, 100))  # Resize to a fixed size\n",
    "            flattened_image = resized_image.flatten()  # Flatten the image into a 1D array\n",
    "        images.append(flattened_image)\n",
    "        labels.append(row['target'])\n",
    "\n",
    "    # Convert lists to numpy arrays\n",
    "    return np.array(images) , np.array(labels)"
   ]
  },
  {
   "cell_type": "code",
   "execution_count": 3,
   "metadata": {},
   "outputs": [
    {
     "name": "stdout",
     "output_type": "stream",
     "text": [
      "Loaded data shape: (430, 30000)\n",
      "Loaded labels shape: (430,)\n"
     ]
    }
   ],
   "source": [
    "dir = \"../DATASETS/guava.v6i.tensorflow/train\"\n",
    "df = pd.read_csv(dir + \"/_annotations.csv\")\n",
    "label_encoder = LabelEncoder()\n",
    "# Encode the 'class' column\n",
    "df['target'] = label_encoder.fit_transform(df['class'])\n",
    "\n",
    "train_data, train_labels = load_data(dir , df)\n",
    "\n",
    "print(\"Loaded data shape:\", train_data.shape)\n",
    "print(\"Loaded labels shape:\", train_labels.shape)\n"
   ]
  },
  {
   "cell_type": "code",
   "execution_count": 4,
   "metadata": {},
   "outputs": [
    {
     "name": "stdout",
     "output_type": "stream",
     "text": [
      "Loaded data shape: (26, 30000)\n",
      "Loaded labels shape: (26,)\n"
     ]
    }
   ],
   "source": [
    "dir = \"../DATASETS/guava.v6i.tensorflow/test\"\n",
    "df = pd.read_csv(dir + \"/_annotations.csv\")\n",
    "label_encoder = LabelEncoder()\n",
    "# Encode the 'class' column\n",
    "df['target'] = label_encoder.fit_transform(df['class'])\n",
    "\n",
    "test_data, test_labels = load_data(dir , df)\n",
    "\n",
    "print(\"Loaded data shape:\", test_data.shape)\n",
    "print(\"Loaded labels shape:\", test_labels.shape)"
   ]
  },
  {
   "cell_type": "code",
   "execution_count": 5,
   "metadata": {},
   "outputs": [
    {
     "name": "stdout",
     "output_type": "stream",
     "text": [
      "Loaded data shape: (42, 30000)\n",
      "Loaded labels shape: (42,)\n"
     ]
    }
   ],
   "source": [
    "dir = \"../DATASETS/guava.v6i.tensorflow/valid\"\n",
    "df = pd.read_csv(dir + \"/_annotations.csv\")\n",
    "label_encoder = LabelEncoder()\n",
    "# Encode the 'class' column\n",
    "df['target'] = label_encoder.fit_transform(df['class'])\n",
    "\n",
    "valid_data, valid_labels = load_data(dir , df)\n",
    "\n",
    "print(\"Loaded data shape:\", valid_data.shape)\n",
    "print(\"Loaded labels shape:\", valid_labels.shape)"
   ]
  },
  {
   "cell_type": "code",
   "execution_count": 6,
   "metadata": {},
   "outputs": [
    {
     "name": "stderr",
     "output_type": "stream",
     "text": [
      "d:\\Codes\\projects\\Automatic-Object-detection-using-Thermal-imaging\\venv\\Lib\\site-packages\\sklearn\\linear_model\\_logistic.py:460: ConvergenceWarning: lbfgs failed to converge (status=1):\n",
      "STOP: TOTAL NO. of ITERATIONS REACHED LIMIT.\n",
      "\n",
      "Increase the number of iterations (max_iter) or scale the data as shown in:\n",
      "    https://scikit-learn.org/stable/modules/preprocessing.html\n",
      "Please also refer to the documentation for alternative solver options:\n",
      "    https://scikit-learn.org/stable/modules/linear_model.html#logistic-regression\n",
      "  n_iter_i = _check_optimize_result(\n"
     ]
    },
    {
     "name": "stdout",
     "output_type": "stream",
     "text": [
      "Validation Results:\n",
      "                     Accuracy  Precision\n",
      "KNN                  0.714286   0.709184\n",
      "SVM                  0.809524   0.807823\n",
      "Gradient Boosting    0.809524   0.826488\n",
      "Naive Bayes          0.738095   0.735450\n",
      "Logistic Regression  0.833333   0.832099\n",
      "Random Forest        0.809524   0.812698\n",
      "\n",
      "Test Results:\n",
      "                     Accuracy  Precision\n",
      "KNN                  0.807692   0.871795\n",
      "SVM                  0.884615   0.911243\n",
      "Gradient Boosting    0.807692   0.813054\n",
      "Naive Bayes          0.615385   0.631868\n",
      "Logistic Regression  0.884615   0.911243\n",
      "Random Forest        0.846154   0.859890\n"
     ]
    }
   ],
   "source": []
  },
  {
   "cell_type": "code",
   "execution_count": 7,
   "metadata": {},
   "outputs": [],
   "source": [
    "# Convert dictionaries to DataFrame\n",
    "validation_df = pd.DataFrame(validation_results).transpose()\n",
    "test_df = pd.DataFrame(test_results).transpose()"
   ]
  },
  {
   "cell_type": "code",
   "execution_count": 8,
   "metadata": {},
   "outputs": [
    {
     "name": "stdout",
     "output_type": "stream",
     "text": [
      "Validation Results:\n"
     ]
    },
    {
     "data": {
      "text/html": [
       "<div>\n",
       "<style scoped>\n",
       "    .dataframe tbody tr th:only-of-type {\n",
       "        vertical-align: middle;\n",
       "    }\n",
       "\n",
       "    .dataframe tbody tr th {\n",
       "        vertical-align: top;\n",
       "    }\n",
       "\n",
       "    .dataframe thead th {\n",
       "        text-align: right;\n",
       "    }\n",
       "</style>\n",
       "<table border=\"1\" class=\"dataframe\">\n",
       "  <thead>\n",
       "    <tr style=\"text-align: right;\">\n",
       "      <th></th>\n",
       "      <th>Accuracy</th>\n",
       "      <th>Precision</th>\n",
       "    </tr>\n",
       "  </thead>\n",
       "  <tbody>\n",
       "    <tr>\n",
       "      <th>KNN</th>\n",
       "      <td>0.714286</td>\n",
       "      <td>0.709184</td>\n",
       "    </tr>\n",
       "    <tr>\n",
       "      <th>SVM</th>\n",
       "      <td>0.809524</td>\n",
       "      <td>0.807823</td>\n",
       "    </tr>\n",
       "    <tr>\n",
       "      <th>Gradient Boosting</th>\n",
       "      <td>0.809524</td>\n",
       "      <td>0.826488</td>\n",
       "    </tr>\n",
       "    <tr>\n",
       "      <th>Naive Bayes</th>\n",
       "      <td>0.738095</td>\n",
       "      <td>0.735450</td>\n",
       "    </tr>\n",
       "    <tr>\n",
       "      <th>Logistic Regression</th>\n",
       "      <td>0.833333</td>\n",
       "      <td>0.832099</td>\n",
       "    </tr>\n",
       "    <tr>\n",
       "      <th>Random Forest</th>\n",
       "      <td>0.809524</td>\n",
       "      <td>0.812698</td>\n",
       "    </tr>\n",
       "  </tbody>\n",
       "</table>\n",
       "</div>"
      ],
      "text/plain": [
       "                     Accuracy  Precision\n",
       "KNN                  0.714286   0.709184\n",
       "SVM                  0.809524   0.807823\n",
       "Gradient Boosting    0.809524   0.826488\n",
       "Naive Bayes          0.738095   0.735450\n",
       "Logistic Regression  0.833333   0.832099\n",
       "Random Forest        0.809524   0.812698"
      ]
     },
     "execution_count": 8,
     "metadata": {},
     "output_type": "execute_result"
    }
   ],
   "source": [
    "# Display the DataFrames\n",
    "print(\"Validation Results:\")\n",
    "validation_df"
   ]
  },
  {
   "cell_type": "code",
   "execution_count": 9,
   "metadata": {},
   "outputs": [
    {
     "name": "stdout",
     "output_type": "stream",
     "text": [
      "\n",
      "Test Results:\n"
     ]
    },
    {
     "data": {
      "text/html": [
       "<div>\n",
       "<style scoped>\n",
       "    .dataframe tbody tr th:only-of-type {\n",
       "        vertical-align: middle;\n",
       "    }\n",
       "\n",
       "    .dataframe tbody tr th {\n",
       "        vertical-align: top;\n",
       "    }\n",
       "\n",
       "    .dataframe thead th {\n",
       "        text-align: right;\n",
       "    }\n",
       "</style>\n",
       "<table border=\"1\" class=\"dataframe\">\n",
       "  <thead>\n",
       "    <tr style=\"text-align: right;\">\n",
       "      <th></th>\n",
       "      <th>Accuracy</th>\n",
       "      <th>Precision</th>\n",
       "    </tr>\n",
       "  </thead>\n",
       "  <tbody>\n",
       "    <tr>\n",
       "      <th>KNN</th>\n",
       "      <td>0.807692</td>\n",
       "      <td>0.871795</td>\n",
       "    </tr>\n",
       "    <tr>\n",
       "      <th>SVM</th>\n",
       "      <td>0.884615</td>\n",
       "      <td>0.911243</td>\n",
       "    </tr>\n",
       "    <tr>\n",
       "      <th>Gradient Boosting</th>\n",
       "      <td>0.807692</td>\n",
       "      <td>0.813054</td>\n",
       "    </tr>\n",
       "    <tr>\n",
       "      <th>Naive Bayes</th>\n",
       "      <td>0.615385</td>\n",
       "      <td>0.631868</td>\n",
       "    </tr>\n",
       "    <tr>\n",
       "      <th>Logistic Regression</th>\n",
       "      <td>0.884615</td>\n",
       "      <td>0.911243</td>\n",
       "    </tr>\n",
       "    <tr>\n",
       "      <th>Random Forest</th>\n",
       "      <td>0.846154</td>\n",
       "      <td>0.859890</td>\n",
       "    </tr>\n",
       "  </tbody>\n",
       "</table>\n",
       "</div>"
      ],
      "text/plain": [
       "                     Accuracy  Precision\n",
       "KNN                  0.807692   0.871795\n",
       "SVM                  0.884615   0.911243\n",
       "Gradient Boosting    0.807692   0.813054\n",
       "Naive Bayes          0.615385   0.631868\n",
       "Logistic Regression  0.884615   0.911243\n",
       "Random Forest        0.846154   0.859890"
      ]
     },
     "execution_count": 9,
     "metadata": {},
     "output_type": "execute_result"
    }
   ],
   "source": [
    "print(\"\\nTest Results:\")\n",
    "test_df"
   ]
  },
  {
   "cell_type": "code",
   "execution_count": null,
   "metadata": {},
   "outputs": [],
   "source": []
  }
 ],
 "metadata": {
  "kernelspec": {
   "display_name": "venv",
   "language": "python",
   "name": "python3"
  },
  "language_info": {
   "codemirror_mode": {
    "name": "ipython",
    "version": 3
   },
   "file_extension": ".py",
   "mimetype": "text/x-python",
   "name": "python",
   "nbconvert_exporter": "python",
   "pygments_lexer": "ipython3",
   "version": "3.11.4"
  },
  "orig_nbformat": 4
 },
 "nbformat": 4,
 "nbformat_minor": 2
}
