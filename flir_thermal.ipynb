{
  "cells": [
    {
      "cell_type": "markdown",
      "metadata": {
        "id": "view-in-github",
        "colab_type": "text"
      },
      "source": [
        "<a href=\"https://colab.research.google.com/github/JaswanthKrishnaE/Automatic-Object-detection-using-Thermal-imaging/blob/main/flir_thermal.ipynb\" target=\"_parent\"><img src=\"https://colab.research.google.com/assets/colab-badge.svg\" alt=\"Open In Colab\"/></a>"
      ]
    },
    {
      "cell_type": "code",
      "execution_count": null,
      "metadata": {
        "id": "yABbyA1PkOCh"
      },
      "outputs": [],
      "source": [
        "!nvidia-smi"
      ]
    },
    {
      "cell_type": "code",
      "execution_count": null,
      "metadata": {
        "colab": {
          "base_uri": "https://localhost:8080/"
        },
        "id": "elgXOOdZ0I8v",
        "outputId": "926391a0-1395-442f-a32e-80dcf7e17026"
      },
      "outputs": [
        {
          "output_type": "stream",
          "name": "stderr",
          "text": [
            "Ultralytics YOLOv8.0.20 🚀 Python-3.9.16 torch-2.0.0+cu118 CPU\n",
            "Setup complete ✅ (2 CPUs, 12.7 GB RAM, 23.7/107.7 GB disk)\n"
          ]
        }
      ],
      "source": [
        "\n",
        "!pip install ultralytics==8.0.20\n",
        "\n",
        "from IPython import display\n",
        "display.clear_output()\n",
        "\n",
        "import ultralytics\n",
        "ultralytics.checks()"
      ]
    },
    {
      "cell_type": "code",
      "execution_count": null,
      "metadata": {
        "colab": {
          "base_uri": "https://localhost:8080/"
        },
        "id": "2qo44DCu0I8z",
        "outputId": "8bb16054-e337-464d-9710-c7b7e435be92"
      },
      "outputs": [
        {
          "output_type": "stream",
          "name": "stdout",
          "text": [
            "/content\n"
          ]
        }
      ],
      "source": [
        "import os\n",
        "HOME = os.getcwd()\n",
        "print(HOME)"
      ]
    },
    {
      "cell_type": "code",
      "execution_count": null,
      "metadata": {
        "id": "-xhEtG0S0I8z"
      },
      "outputs": [],
      "source": [
        "!mkdir {HOME}/datasets\n",
        "%cd {HOME}/datasets\n",
        "\n",
        "!pip install roboflow\n",
        "\n",
        "from roboflow import Roboflow\n",
        "rf = Roboflow(api_key=\"D90rVo7ahGyBHqpqtBIH\")\n",
        "project = rf.workspace(\"indian-institute-of-information-technology-sricity\").project(\"mango-detection-bxd1h\")\n",
        "dataset = project.version(4).download(\"yolov8\")"
      ]
    },
    {
      "cell_type": "code",
      "execution_count": null,
      "metadata": {
        "id": "t6-x_Pir0I80"
      },
      "outputs": [],
      "source": [
        "from ultralytics import YOLO\n",
        "%cd {HOME}\n",
        "# Load a model\n",
        "model = YOLO('yolov8n.yaml')\n",
        "\n",
        "# Load a pretrained YOLO model (recommended for training)\n",
        "model = YOLO('yolov8n.pt')\n"
      ]
    },
    {
      "cell_type": "code",
      "execution_count": null,
      "metadata": {
        "id": "KozRuci4mMfM"
      },
      "outputs": [],
      "source": [
        "# Use the model\n",
        "results = model.train(data=\"/content/datasets/Mango-detection-4/data.yaml\", epochs=100)  # train the model"
      ]
    },
    {
      "cell_type": "code",
      "execution_count": null,
      "metadata": {
        "id": "ibexLGWH0I80"
      },
      "outputs": [],
      "source": [
        "results = model.val()  # evaluate model performance on the validation set"
      ]
    },
    {
      "cell_type": "code",
      "execution_count": null,
      "metadata": {
        "id": "06Lxj1_G0I81"
      },
      "outputs": [],
      "source": [
        "# success = model.export(format=\"pt\")  # export the model to ONNX format"
      ]
    },
    {
      "cell_type": "code",
      "execution_count": null,
      "metadata": {
        "id": "a7FxnhMrx0mU"
      },
      "outputs": [],
      "source": [
        "from PIL import Image\n",
        "import cv2\n",
        "results = model.predict(source=\"/content/datasets/Mango-detection-4/test/images\", save=True)  # save plotted images\n",
        "print(results)\n",
        "# display(Image.open('runs/detect/predict/TFront-North-11-14-20-25-16542_jpg.rf.b136dc35c1d4e474b3ef19111241d1cb.jpg'))"
      ]
    },
    {
      "cell_type": "code",
      "execution_count": null,
      "metadata": {
        "id": "DsEvFYxXzs1q"
      },
      "outputs": [],
      "source": [
        "results = model.predict(source=\"/content/IMG_0091.JPG\", save=True)"
      ]
    },
    {
      "cell_type": "code",
      "execution_count": null,
      "metadata": {
        "id": "VftuOynIylnG"
      },
      "outputs": [],
      "source": [
        "model.predict(source=\"/content/IMG_0091.JPG\", save=True)"
      ]
    },
    {
      "cell_type": "markdown",
      "source": [
        "Prediction"
      ],
      "metadata": {
        "id": "eAcq6BI_nweH"
      }
    },
    {
      "cell_type": "code",
      "source": [
        "from ultralytics import YOLO\n",
        "model = YOLO('/content/best.pt')"
      ],
      "metadata": {
        "id": "2cIND-f3nyJm"
      },
      "execution_count": null,
      "outputs": []
    },
    {
      "cell_type": "code",
      "source": [
        "model.predict(source=\"/content/car_98-20375442504883_Sun-Nov-28-19_20_57-2021_jpg.rf.72263a8efa329b914c10b3e920dbfb5b.jpg\", save=True)"
      ],
      "metadata": {
        "colab": {
          "base_uri": "https://localhost:8080/"
        },
        "id": "aTLPo2tAn7kH",
        "outputId": "9d61d8cb-ecd0-4b78-ce32-807d29d361bb"
      },
      "execution_count": null,
      "outputs": [
        {
          "output_type": "stream",
          "name": "stderr",
          "text": [
            "Results saved to \u001b[1mruns/detect/predict\u001b[0m\n"
          ]
        },
        {
          "output_type": "execute_result",
          "data": {
            "text/plain": [
              "[Ultralytics YOLO <class 'ultralytics.yolo.engine.results.Boxes'> masks\n",
              " type: <class 'torch.Tensor'>\n",
              " shape: torch.Size([1, 6])\n",
              " dtype: torch.float32\n",
              "  + tensor([[309.00000, 270.00000, 613.00000, 422.00000,   0.97319,   0.00000]])]"
            ]
          },
          "metadata": {},
          "execution_count": 5
        }
      ]
    },
    {
      "cell_type": "code",
      "source": [],
      "metadata": {
        "id": "wqeiO1zoH2Ze"
      },
      "execution_count": null,
      "outputs": []
    }
  ],
  "metadata": {
    "accelerator": "TPU",
    "colab": {
      "provenance": [],
      "include_colab_link": true
    },
    "gpuClass": "standard",
    "kernelspec": {
      "display_name": "Python 3",
      "language": "python",
      "name": "python3"
    },
    "language_info": {
      "codemirror_mode": {
        "name": "ipython",
        "version": 3
      },
      "file_extension": ".py",
      "mimetype": "text/x-python",
      "name": "python",
      "nbconvert_exporter": "python",
      "pygments_lexer": "ipython3",
      "version": "3.7.12"
    }
  },
  "nbformat": 4,
  "nbformat_minor": 0
}